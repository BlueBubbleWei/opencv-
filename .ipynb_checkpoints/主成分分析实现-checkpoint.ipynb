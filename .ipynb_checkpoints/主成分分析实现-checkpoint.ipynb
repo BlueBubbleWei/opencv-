{
 "cells": [
  {
   "cell_type": "code",
   "execution_count": 3,
   "metadata": {},
   "outputs": [
    {
     "name": "stdout",
     "output_type": "stream",
     "text": [
      "         x1        x2        x3        x4\n",
      "0 -1.423908 -1.637059  0.601472  0.096941\n",
      "1 -0.169672 -0.547722 -0.429111 -0.013778\n",
      "2 -1.550408 -1.740020 -1.974366 -0.664242\n",
      "3  0.738875  1.027698  1.892319 -0.237601\n",
      "4 -0.705878  0.807162  0.464092  0.541530\n",
      "5 -0.259221 -0.808060  0.402813  0.338190\n",
      "6  0.996303  1.531172 -0.014798  1.246208\n",
      "7 -0.601244  0.316243  0.566459 -1.088542\n"
     ]
    }
   ],
   "source": [
    "import numpy as np\n",
    "import pandas as pd\n",
    "df1 = pd.DataFrame({'x1':np.random.randn(8),'x2':np.random.randn(8),'x3':np.random.randn(8),'x4':np.random.randn(8)})\n",
    "print(df1)"
   ]
  },
  {
   "cell_type": "markdown",
   "metadata": {},
   "source": [
    "z-score 标准化\n",
    "\n",
    "  零均值化 ：第一步.求每一列的平均值和标准差，第二步，该列上新数据=（原数据-均值）/标准差。\n",
    "\n",
    "  python备注： DataFrame和Series之间的算术运算会将Series的索引匹配到DataFrame的列，然后沿着行一直向下运算（广播）。"
   ]
  },
  {
   "cell_type": "code",
   "execution_count": 4,
   "metadata": {},
   "outputs": [],
   "source": [
    "def standardization(dataX):\n",
    "###pca程序1 ，准备程序\n",
    "# axis=0是列\n",
    "    meanVal=dataX.mean(axis=0)      \n",
    "    ###我们的数据变量按列进行排列(即一行为一个样本),按列求均值，即求各个特征的均值\n",
    "    #meanVal = np.mean(dataX, axis=0) ###此同为np的方法,得到Series\n",
    "    stdVal=dataX.std(axis=0)\n",
    "    datasTad =(dataX-meanVal)/stdVal\n",
    "    return datasTad"
   ]
  },
  {
   "cell_type": "markdown",
   "metadata": {},
   "source": [
    "1.3.1 求相关系数或者协方差矩阵\n",
    "\n",
    "  PCA可以根据相关系数矩阵，也可以根据协方差矩阵进行计算。经标准化的样本数据的协方差矩阵就是原始样本数据的相关矩阵。\n",
    "\n",
    "  python备注：DataFrame的corr和cov方法将以DataFrame 的形式反悔完整的相关系数或协方差矩阵。"
   ]
  },
  {
   "cell_type": "code",
   "execution_count": null,
   "metadata": {},
   "outputs": [],
   "source": []
  }
 ],
 "metadata": {
  "kernelspec": {
   "display_name": "Python 3",
   "language": "python",
   "name": "python3"
  },
  "language_info": {
   "codemirror_mode": {
    "name": "ipython",
    "version": 3
   },
   "file_extension": ".py",
   "mimetype": "text/x-python",
   "name": "python",
   "nbconvert_exporter": "python",
   "pygments_lexer": "ipython3",
   "version": "3.6.4"
  }
 },
 "nbformat": 4,
 "nbformat_minor": 2
}
