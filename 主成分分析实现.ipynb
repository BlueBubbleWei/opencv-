{
 "cells": [
  {
   "cell_type": "code",
   "execution_count": 28,
   "metadata": {},
   "outputs": [],
   "source": [
    "import numpy as np\n",
    "import pandas as pd"
   ]
  },
  {
   "cell_type": "markdown",
   "metadata": {},
   "source": [
    "z-score 标准化\n",
    "\n",
    "  零均值化 ：第一步.求每一列的平均值和标准差，第二步，该列上新数据=（原数据-均值）/标准差。\n",
    "\n",
    "  python备注： DataFrame和Series之间的算术运算会将Series的索引匹配到DataFrame的列，然后沿着行一直向下运算（广播）。"
   ]
  },
  {
   "cell_type": "code",
   "execution_count": 31,
   "metadata": {},
   "outputs": [],
   "source": [
    "def standardization(dataX):\n",
    "###pca程序1 ，准备程序\n",
    "# axis=0是列\n",
    "    print('dataX',dataX)\n",
    "    meanVal=dataX.mean(axis=0)\n",
    "    print('meanVal',meanVal)\n",
    "    ###我们的数据变量按列进行排列(即一行为一个样本),按列求均值，即求各个特征的均值\n",
    "    #meanVal = np.mean(dataX, axis=0) ###此同为np的方法,得到Series\n",
    "    stdVal=dataX.std(axis=0)\n",
    "    print('stdVal',stdVal)\n",
    "    datasTad =(dataX-meanVal)/stdVal\n",
    "    print('datasTad',datasTad)\n",
    "    return datasTad"
   ]
  },
  {
   "cell_type": "markdown",
   "metadata": {},
   "source": [
    "1.3.1 求相关系数或者协方差矩阵\n",
    "\n",
    "  PCA可以根据相关系数矩阵，也可以根据协方差矩阵进行计算。经标准化的样本数据的协方差矩阵就是原始样本数据的相关矩阵。\n",
    "\n",
    "  python备注：DataFrame的corr和cov方法将以DataFrame 的形式反悔完整的相关系数或协方差矩阵。"
   ]
  },
  {
   "cell_type": "code",
   "execution_count": 16,
   "metadata": {},
   "outputs": [
    {
     "name": "stdout",
     "output_type": "stream",
     "text": [
      "[[42  0  3 20]\n",
      " [48  4 52  2]\n",
      " [85  0 47 50]\n",
      " [42  0  3 20]\n",
      " [48  4 52  2]\n",
      " [85  0 47 50]]\n",
      "[[42  0  3 20 42  0  3 20]\n",
      " [48  4 52  2 48  4 52  2]\n",
      " [85  0 47 50 85  0 47 50]]\n"
     ]
    }
   ],
   "source": [
    "# 查看axis=0是哪一个轴\n",
    "A=np.array(np.random.randint(0,100,12))\n",
    "arr=A.reshape(3,4)\n",
    "print(np.concatenate([arr,arr],axis=0))\n",
    "print(np.concatenate([arr,arr],axis=1))"
   ]
  },
  {
   "cell_type": "code",
   "execution_count": 39,
   "metadata": {},
   "outputs": [
    {
     "name": "stdout",
     "output_type": "stream",
     "text": [
      "          x1        x2        x3        x4\n",
      "x1  1.000000  0.108722 -0.525174  0.098630\n",
      "x2  0.108722  1.000000  0.066668 -0.407955\n",
      "x3 -0.525174  0.066668  1.000000 -0.070582\n",
      "x4  0.098630 -0.407955 -0.070582  1.000000\n"
     ]
    }
   ],
   "source": [
    "dataCov = datasTad.cov()\n",
    "# dataCov = datasTad.cov()\n",
    "print(dataCov)"
   ]
  },
  {
   "cell_type": "markdown",
   "metadata": {},
   "source": [
    "1.3.2 求特征值、特征矩阵\n",
    "\n",
    "  python备注：numpy.linalg函数中的eig函数（参数类型为array），可以直接由covMat求得特征值和特征向量。"
   ]
  },
  {
   "cell_type": "code",
   "execution_count": 40,
   "metadata": {},
   "outputs": [
    {
     "name": "stdout",
     "output_type": "stream",
     "text": [
      "[ 0.40980729  0.63894509  1.56307481  1.38817281] [[-0.63919547  0.28166066 -0.63712248 -0.32583947]\n",
      " [ 0.40031312  0.5642625   0.20231652 -0.69312716]\n",
      " [-0.57637489  0.43158657  0.66093977  0.21138505]\n",
      " [ 0.31459584  0.64498693 -0.34103019  0.60722297]]\n"
     ]
    }
   ],
   "source": [
    "newData1 = np.array(dataCov)\n",
    "eigenValue, eigenVector = np.linalg.eig(newData1)\n",
    "print (eigenValue,eigenVector)"
   ]
  },
  {
   "cell_type": "markdown",
   "metadata": {},
   "source": [
    "1.3.3 保留特征值比较大的前n个主成分\n",
    "\n",
    "python备注： np.argsort函数返回的是数组值从小到大的索引值"
   ]
  },
  {
   "cell_type": "code",
   "execution_count": 54,
   "metadata": {},
   "outputs": [
    {
     "name": "stdout",
     "output_type": "stream",
     "text": [
      "sorceEigenValue [0 1 3 2]\n",
      "pcaEigenValue\n",
      " [ 0.40980729  0.63894509  1.38817281  1.56307481]\n",
      "pcaEigenVector\n",
      " [[0 2 3 1]\n",
      " [3 2 0 1]\n",
      " [0 3 1 2]\n",
      " [2 0 3 1]]\n",
      "eigenVector\n",
      " [[-0.63919547  0.28166066 -0.63712248 -0.32583947]\n",
      " [ 0.40031312  0.5642625   0.20231652 -0.69312716]\n",
      " [-0.57637489  0.43158657  0.66093977  0.21138505]\n",
      " [ 0.31459584  0.64498693 -0.34103019  0.60722297]]\n",
      "eigenVector\n",
      " [[-0.63919547  0.28166066 -0.63712248 -0.32583947]\n",
      " [ 0.40031312  0.5642625   0.20231652 -0.69312716]\n",
      " [-0.57637489  0.43158657  0.66093977  0.21138505]\n",
      " [ 0.31459584  0.64498693 -0.34103019  0.60722297]]\n"
     ]
    }
   ],
   "source": [
    "sorceEigenValue = np.argsort(eigenValue)\n",
    "print('sorceEigenValue',sorceEigenValue)\n",
    "pcaEigenValue = eigenValue[sorceEigenValue]\n",
    "print ('pcaEigenValue\\n',pcaEigenValue)\n",
    "sorceEigenVector = np.argsort(eigenVector)\n",
    "print ('pcaEigenVector\\n',sorceEigenVector)\n",
    "print ('eigenVector\\n',eigenVector)\n",
    "pcaEigenVector = eigenVector[sorceEigenVector]\n",
    "print ('eigenVector\\n',eigenVector)"
   ]
  },
  {
   "cell_type": "markdown",
   "metadata": {},
   "source": [
    "1.3.4 将1.3.1-1.3.4步骤写入pca定义函数\n",
    "\n",
    "给定要选取的主成份个数 n ."
   ]
  },
  {
   "cell_type": "code",
   "execution_count": 25,
   "metadata": {},
   "outputs": [],
   "source": [
    "def pcan(dataX,datasTad,n):\n",
    "#pca 程序2，主程序\n",
    "    dataCov = datasTad.cov()\n",
    "    newData1 = np.array(dataCov)\n",
    "    eigenValue, eigenVector = np.linalg.eig(newData1)#求得特征值，特征向量\n",
    "    sorceEigenValue = np.argsort(eigenValue)         #特征值下标从小到大的排列顺序\n",
    "    nPcaEigenVector = sorceEigenValue[-n:]           #最大的n个特征值的下标\n",
    "    pcaEigenVector = eigenVector[nPcaEigenVector]    #选取特征值对应的特征向量\n",
    "    PCAX = np.dot(dataX , pcaEigenVector.T)          #得到降维后的数据\n",
    "    return PCAX ,pcaEigenVector\n",
    "\n",
    "\n",
    "# 对选取主成份的个数还可以另一种选法：根据解释原始信息的程度选取,给定累计解释率 a\n",
    "\n",
    "def pcaPercentage(dataX,datasTad,percentage= 0.85):\n",
    "#pca 程序2，主程序\n",
    "    dataCov = datasTad.cov()\n",
    "    newData1 = np.array(dataCov)\n",
    "    eigenValue, eigenVector = np.linalg.eig(newData1)#求得特征值，特征向量\n",
    "    sortEigenValue = np.argsort(eigenValue)         #特征值下标从小到大的排列顺序\n",
    "    sorceEigenValue=np.sort(eigenValue)             #升序  \n",
    "    cumEigenValue = np.cumsum(sorceEigenValue)      #特征值累加\n",
    "    sumEigenValue= sum(sorceEigenValue)             #特征值求和\n",
    "    k =0                                            #计数，k最终结果为对应要提取的主成份个数\n",
    "    for i in cumEigenValue:  \n",
    "        k = k+1\n",
    "        if i >=sumEigenValue*percentage:\n",
    "            break\n",
    "    nPcaEigenVector = sorceEigenValue[-k:]           #最大的k个特征值的下标\n",
    "    pcaEigenVector = eigenVector[nPcaEigenVector]    #选取特征值对应的特征向量\n",
    "    PCAX = np.dot(dataX , pcaEigenVector.T)          #得到降维后的数据\n",
    "    return PCAX ,pcaEigenVector,k"
   ]
  },
  {
   "cell_type": "code",
   "execution_count": 61,
   "metadata": {},
   "outputs": [
    {
     "name": "stdout",
     "output_type": "stream",
     "text": [
      "dataX          x1        x2        x3        x4\n",
      "0 -0.904990 -1.107779 -0.663036  0.092315\n",
      "1 -1.361420  0.884643  0.764409  2.152524\n",
      "2 -0.245873 -0.127191  1.185368 -0.337236\n",
      "3 -1.977489  0.922938 -1.384905  1.670609\n",
      "4 -0.177080 -1.356688  0.327178  0.501350\n",
      "5  0.503850  1.014118 -0.455653  0.640279\n",
      "6  0.437765  0.937678  0.265913  0.321544\n",
      "7 -0.614984 -0.320185 -0.668871 -0.506918\n",
      "meanVal x1   -0.542528\n",
      "x2    0.105942\n",
      "x3   -0.078700\n",
      "x4    0.566808\n",
      "dtype: float64\n",
      "stdVal x1    0.857219\n",
      "x2    0.973856\n",
      "x3    0.856088\n",
      "x4    0.925669\n",
      "dtype: float64\n",
      "datasTad          x1        x2        x3        x4\n",
      "0 -0.422836 -1.246304 -0.682565 -0.512595\n",
      "1 -0.955291  0.799607  0.984838  1.713049\n",
      "2  0.346067 -0.239391  1.476562 -0.976640\n",
      "3 -1.673974  0.838929 -1.525784  1.192437\n",
      "4  0.426318 -1.501895  0.474107 -0.070715\n",
      "5  1.220667  0.932557 -0.440321  0.079370\n",
      "6  1.143574  0.854065  0.402544 -0.264959\n",
      "7 -0.084525 -0.437567 -0.689381 -1.159947\n",
      "pcaEigenVector\n",
      " [[ 0.63642124  0.66435227 -0.28390861  0.27018507]\n",
      " [-0.5535365   0.55733106  0.45868826  0.41543293]]\n",
      "PCAX\n",
      " [[-1.09872699 -0.38223074]\n",
      " [ 0.08583552  2.49148958]\n",
      " [-0.66863039  0.46882706]\n",
      " [ 0.19919984  1.66778056]\n",
      " [-0.97144761 -0.2997542 ]\n",
      " [ 1.29675049  0.34329034]\n",
      " [ 0.91293271  0.53582924]\n",
      " [-0.55116816 -0.3554264 ]]\n"
     ]
    }
   ],
   "source": [
    "if __name__ == \"__main__\": \n",
    "#     导入数据，切记不含因变量。我们在此构造df1数据，此数据变量间没有一定的相关性，只做计算演示。\n",
    "    df1 = pd.DataFrame({'x1':np.random.randn(8),'x2':np.random.randn(8),'x3':np.random.randn(8),'x4':np.random.randn(8)})\n",
    "    datasTad = standardization(df1)\n",
    "    PCAX,pcaEigenVector = pcan(df1,datasTad,2)#选取前两个主成份\n",
    "#     PCAX,pcaEigenVector ,k =pcaPercentage(dataX,datasTad,percentage= 0.85)\n",
    "    print('pcaEigenVector\\n', pcaEigenVector)\n",
    "    print ('PCAX\\n',PCAX )\n",
    "#     print k"
   ]
  },
  {
   "cell_type": "code",
   "execution_count": 36,
   "metadata": {},
   "outputs": [
    {
     "data": {
      "text/plain": [
       "0.7690568796367784"
      ]
     },
     "execution_count": 36,
     "metadata": {},
     "output_type": "execute_result"
    }
   ],
   "source": [
    "( 2.085816 -0.644267)/1.097071\n",
    "( 1.487977 -0.644267)/1.097071"
   ]
  },
  {
   "cell_type": "markdown",
   "metadata": {},
   "source": [
    "1.6 分析主成份的现实意义\n",
    "\n",
    "1.5 得到降维后的数据后，接着进行线性回归的分析（可参考下面程序）\n",
    "\n",
    "PCA+python实现（法2）scikit-learn+快速实现"
   ]
  },
  {
   "cell_type": "code",
   "execution_count": 55,
   "metadata": {},
   "outputs": [],
   "source": [
    "def ready_pca(train,test):\n",
    "###pca程序1 ，准备程序\n",
    "    #选出自变量\n",
    "    trainX =train.ix[:,['暴风影音', '乐视网', '爱奇艺', '腾讯视频', '爱音乐', '唱吧', '有杀气童话', '金山电池医生']].fillna(0)\n",
    "    ##如果最后一列为因变量，选取所有自变量则可以\n",
    "    ##trainX = train.ix[:,:len(train.T)]    #包头不包尾部因变量\n",
    "    testX =test.ix[:,['暴风影音', '乐视网', '爱奇艺', '腾讯视频', '爱音乐', '唱吧', '有杀气童话', '金山电池医生']].fillna(0)\n",
    "    trainX  = preprocessing.scale(trainX ) #标准化\n",
    "    testX  = preprocessing.scale(testX )   #标准化\n",
    "    colume = list(trainX.columns)\n",
    "    trainX1 = np.array(trainX)\n",
    "    testX1 = np.array(testX)\n",
    "    return trainX1,testX1,colume"
   ]
  },
  {
   "cell_type": "markdown",
   "metadata": {},
   "source": [
    "2,3 主成份"
   ]
  },
  {
   "cell_type": "code",
   "execution_count": 56,
   "metadata": {},
   "outputs": [],
   "source": [
    "deaf pca_train(trainX1,testX1,colume):\n",
    "#pca 程序2，主程序\n",
    "    pca=PCA(copy=True, n_components=3, whiten=False)\n",
    "    ##  n_components ，如果带入参数为整数，则参数为选取的主成份的个数；如果带入参数为小于1大于0的小数，则按照选取的主成份的个数\n",
    "    ## 当whiten，True（默认为假）时，将将component_矢量乘以n_samples的平方根，然后除以奇异值，以确保具有单位分量方差的不相关输出。将从变换的信号（组的相对方差尺度）中消除一些信息，但有时可以通过使其数据符合一些硬连线的假设，来提高下游估计量的预测精度。\n",
    "    ## copy : bool (default True)，如果False，传递给fit的数据将被覆盖并运行适合（X）.transform（X）将不会产生预期结果，请改用fit_transform（X）。\n",
    "    pca.fit(trainX1)                                 #### 将trainX1传入定义好的pca模型\n",
    "    components = pca.components_                     ####选取的特征向量对应的系数array\n",
    "    pacTrainX = pca.transform(trainX1)               #####将trainX1在构造好的pca模型上进行映射\n",
    "    pcaTestX = pca.transform(testX1)                 ####test主成份\n",
    "    ratio = pca.explained_variance_ratio_            ####选取的主成份分别对应的方差解释率                                                                                                                                                                                                                                                                                                                                                                                                                                                                                                                                                                                                                                                                                                                                                                                差占比\n",
    "    sum_rati0 = reduce(lambda x,y:x+y,ratio)        ####选取主成份的解释方差\n",
    "\n",
    "    print('pacTrainX，pca.fit',pca)\n",
    "    print('pcaTestX,ratio',ratio)\n",
    "    print('sum_rati0',sum_rati0)\n",
    "    defen_train = pd.DataFrame(pacTrainX,columns = colume)\n",
    "    components_train = pd.DataFrame(components,columns = colume)\n",
    "    defen_test = pd.DataFrame(pcaTestX ,columns = colume)\n",
    "    return pacTrainX,pcaTestX,defen_train,components_train,ratio,sum_rati0,defen_test"
   ]
  },
  {
   "cell_type": "markdown",
   "metadata": {},
   "source": [
    "2.4 对生成主成份的数据进行线性预测"
   ]
  },
  {
   "cell_type": "code",
   "execution_count": 58,
   "metadata": {},
   "outputs": [],
   "source": [
    "def Linear(pacTrainX,trainy,pcaTestX):\n",
    "    pca_svc = LinearSVC()\n",
    "    pca_svc.fit(defen_train,trainy)\n",
    "    pca_y_predict= pca_svc.predict(defen_test )\n",
    "    return pca_y_predict"
   ]
  },
  {
   "cell_type": "code",
   "execution_count": 62,
   "metadata": {},
   "outputs": [
    {
     "ename": "SyntaxError",
     "evalue": "unexpected EOF while parsing (<ipython-input-62-dc1a42c87164>, line 3)",
     "output_type": "error",
     "traceback": [
      "\u001b[1;36m  File \u001b[1;32m\"<ipython-input-62-dc1a42c87164>\"\u001b[1;36m, line \u001b[1;32m3\u001b[0m\n\u001b[1;33m    #     test = pd.read_csv(“F:\\wo\\test.csv”)\u001b[0m\n\u001b[1;37m                                              ^\u001b[0m\n\u001b[1;31mSyntaxError\u001b[0m\u001b[1;31m:\u001b[0m unexpected EOF while parsing\n"
     ]
    }
   ],
   "source": [
    "if name == \"main\": \n",
    "#     train = pd.read_csv(“F:\\wo\\train.csv”) \n",
    "#     test = pd.read_csv(“F:\\wo\\test.csv”)"
   ]
  },
  {
   "cell_type": "code",
   "execution_count": 63,
   "metadata": {},
   "outputs": [
    {
     "name": "stderr",
     "output_type": "stream",
     "text": [
      "d:\\python3\\lib\\site-packages\\sklearn\\cross_validation.py:41: DeprecationWarning: This module was deprecated in version 0.18 in favor of the model_selection module into which all the refactored classes and functions are moved. Also note that the interface of the new CV iterators are different from that of this module. This module will be removed in 0.20.\n",
      "  \"This module will be removed in 0.20.\", DeprecationWarning)\n"
     ]
    }
   ],
   "source": [
    "# 加载葡萄酒数据集\n",
    "import pandas as pd\n",
    "df_wine = pd.read_csv('https://archive.ics.uci.edu/ml/machine-learning-databases/wine/wine.data', header=None)\n",
    "# 将数据分成70%的培训和30%的测试子集。\n",
    "from sklearn.cross_validation import train_test_split\n",
    "X, y = df_wine.iloc[:, 1:].values, df_wine.iloc[:, 0].values\n",
    "X_train, X_test, y_train, y_test = \\\n",
    "        train_test_split(X, y, test_size=0.3, random_state=0)\n",
    "# 使用单位方差标准化\n",
    "from sklearn.preprocessing import StandardScaler\n",
    "sc = StandardScaler()\n",
    "X_train_std = sc.fit_transform(X_train)\n",
    "X_test_std = sc.fit_transform(X_test)\n"
   ]
  },
  {
   "cell_type": "code",
   "execution_count": 64,
   "metadata": {},
   "outputs": [
    {
     "name": "stdout",
     "output_type": "stream",
     "text": [
      "\n",
      "Eigenvalues \n",
      "[ 4.8923083   2.46635032  1.42809973  1.01233462  0.84906459  0.60181514\n",
      "  0.52251546  0.08414846  0.33051429  0.29595018  0.16831254  0.21432212\n",
      "  0.2399553 ]\n"
     ]
    }
   ],
   "source": [
    "\n",
    "# 协方差矩阵的特征分解，计算数据集协方差矩阵的特征对。\n",
    "import numpy as np\n",
    "cov_mat = np.cov(X_train_std.T)\n",
    "eigen_vals, eigen_vecs = np.linalg.eig(cov_mat)\n",
    "print('\\nEigenvalues \\n%s' % eigen_vals)"
   ]
  },
  {
   "cell_type": "code",
   "execution_count": 65,
   "metadata": {},
   "outputs": [
    {
     "data": {
      "image/png": "[encoded data removed]",
      "text/plain": [
       "<matplotlib.figure.Figure at 0x1153b940>"
      ]
     },
     "metadata": {},
     "output_type": "display_data"
    }
   ],
   "source": [
    "# 使用NumPy的cumsum函数，计算累计方差。\n",
    "tot = sum(eigen_vals)\n",
    "var_exp = [(i / tot) for i in sorted(eigen_vals, reverse=True)]\n",
    "cum_var_exp = np.cumsum(var_exp)\n",
    "# 通过Plo的step绘制\n",
    "import matplotlib.pyplot as plt\n",
    "%matplotlib inline\n",
    "plt.bar(range(1, 14), var_exp, alpha=0.5, align='center',\n",
    "        label='individual explained variance')\n",
    "plt.step(range(1, 14), cum_var_exp, where='mid',\n",
    "         label='cumulative explained variance')\n",
    "plt.ylabel('Explained variance ratio')\n",
    "plt.xlabel('Principal components')\n",
    "plt.legend(loc='best')\n",
    "plt.tight_layout()\n",
    "# plt.savefig('./figures/pca1.png', dpi=300)\n",
    "plt.show()"
   ]
  },
  {
   "cell_type": "code",
   "execution_count": 66,
   "metadata": {},
   "outputs": [
    {
     "name": "stdout",
     "output_type": "stream",
     "text": [
      "Matrix W:\n",
      " [[ 0.14669811  0.50417079]\n",
      " [-0.24224554  0.24216889]\n",
      " [-0.02993442  0.28698484]\n",
      " [-0.25519002 -0.06468718]\n",
      " [ 0.12079772  0.22995385]\n",
      " [ 0.38934455  0.09363991]\n",
      " [ 0.42326486  0.01088622]\n",
      " [-0.30634956  0.01870216]\n",
      " [ 0.30572219  0.03040352]\n",
      " [-0.09869191  0.54527081]\n",
      " [ 0.30032535 -0.27924322]\n",
      " [ 0.36821154 -0.174365  ]\n",
      " [ 0.29259713  0.36315461]]\n"
     ]
    }
   ],
   "source": [
    "# 按特征值的降序排列特征对\n",
    "# 列出(特征值，特征向量)元组。\n",
    "eigen_pairs = [(np.abs(eigen_vals[i]), eigen_vecs[:,i]) for i in range(len(eigen_vals))]\n",
    " \n",
    "# 从高到低排序(特征值，特征向量)元组。\n",
    "eigen_pairs.sort(reverse=True)\n",
    "# 本案例只选择前60%的两个特征向量\n",
    "w = np.hstack((eigen_pairs[0][1][:, np.newaxis],\n",
    "               eigen_pairs[1][1][:, np.newaxis]))\n",
    "print('Matrix W:\\n', w)"
   ]
  },
  {
   "cell_type": "code",
   "execution_count": 67,
   "metadata": {},
   "outputs": [
    {
     "data": {
      "image/png": "[encoded data removed]",
      "text/plain": [
       "<matplotlib.figure.Figure at 0x1c1a3198>"
      ]
     },
     "metadata": {},
     "output_type": "display_data"
    }
   ],
   "source": [
    "# 通过计算矩阵点积，将整个训练集转换到包含两个主成分的子空间上。\n",
    "X_train_pca = X_train_std.dot(w)\n",
    " \n",
    "# 可视化\n",
    "colors = ['r', 'b', 'g']\n",
    "markers = ['s', 'x', 'o']\n",
    " \n",
    "for l, c, m in zip(np.unique(y_train), colors, markers):\n",
    "    plt.scatter(X_train_pca[y_train==l, 0], \n",
    "                X_train_pca[y_train==l, 1], \n",
    "                c=c, label=l, marker=m)\n",
    " \n",
    "plt.xlabel('PC 1')\n",
    "plt.ylabel('PC 2')\n",
    "plt.legend(loc='lower left')\n",
    "plt.tight_layout()\n",
    "# plt.savefig('./figures/pca2.png', dpi=300)\n",
    "plt.show()"
   ]
  },
  {
   "cell_type": "code",
   "execution_count": 68,
   "metadata": {
    "scrolled": true
   },
   "outputs": [
    {
     "data": {
      "image/png": "[encoded data removed]",
      "text/plain": [
       "<matplotlib.figure.Figure at 0x1c2d59e8>"
      ]
     },
     "metadata": {},
     "output_type": "display_data"
    }
   ],
   "source": [
    "# 使用Scikit-learn进行主成分分析\n",
    "from sklearn.decomposition import PCA\n",
    " \n",
    "pca = PCA()\n",
    "X_train_pca = pca.fit_transform(X_train_std)\n",
    "# pca.explained_variance_ratio_\n",
    "plt.bar(range(1, 14), pca.explained_variance_ratio_, alpha=0.5, align='center')\n",
    "plt.step(range(1, 14), np.cumsum(pca.explained_variance_ratio_), where='mid')\n",
    "plt.ylabel('Explained variance ratio')\n",
    "plt.xlabel('Principal components')\n",
    "plt.show()"
   ]
  },
  {
   "cell_type": "code",
   "execution_count": 69,
   "metadata": {},
   "outputs": [
    {
     "data": {
      "image/png": "[encoded data removed]",
      "text/plain": [
       "<matplotlib.figure.Figure at 0x1c307cf8>"
      ]
     },
     "metadata": {},
     "output_type": "display_data"
    }
   ],
   "source": [
    "\n",
    "pca = PCA(n_components=2)\n",
    "X_train_pca = pca.fit_transform(X_train_std)\n",
    "X_test_pca = pca.transform(X_test_std)\n",
    "plt.scatter(X_train_pca[:,0], X_train_pca[:,1])\n",
    "plt.xlabel('PC 1')\n",
    "plt.ylabel('PC 2')\n",
    "plt.show()"
   ]
  },
  {
   "cell_type": "code",
   "execution_count": 70,
   "metadata": {},
   "outputs": [
    {
     "data": {
      "image/png": "[encoded data removed]",
      "text/plain": [
       "<matplotlib.figure.Figure at 0x1ca4cac8>"
      ]
     },
     "metadata": {},
     "output_type": "display_data"
    }
   ],
   "source": [
    "# 使用plot_decision_regions函数进行可视化决策区域\n",
    "from matplotlib.colors import ListedColormap\n",
    " \n",
    "def plot_decision_regions(X, y, classifier, resolution=0.02):\n",
    " \n",
    "    #设置标记生成器和颜色映射。\n",
    "    markers = ('s', 'x', 'o', '^', 'v')\n",
    "    colors = ('red', 'blue', 'lightgreen', 'gray', 'cyan')\n",
    "    cmap = ListedColormap(colors[:len(np.unique(y))])\n",
    " \n",
    "    # plot 决定表面\n",
    "    x1_min, x1_max = X[:, 0].min() - 1, X[:, 0].max() + 1\n",
    "    x2_min, x2_max = X[:, 1].min() - 1, X[:, 1].max() + 1\n",
    "    xx1, xx2 = np.meshgrid(np.arange(x1_min, x1_max, resolution),\n",
    "                         np.arange(x2_min, x2_max, resolution))\n",
    "    Z = classifier.predict(np.array([xx1.ravel(), xx2.ravel()]).T)\n",
    "    Z = Z.reshape(xx1.shape)\n",
    "    plt.contourf(xx1, xx2, Z, alpha=0.4, cmap=cmap)\n",
    "    plt.xlim(xx1.min(), xx1.max())\n",
    "    plt.ylim(xx2.min(), xx2.max())\n",
    " \n",
    "    # plot 类样本\n",
    "    for idx, cl in enumerate(np.unique(y)):\n",
    "        plt.scatter(x=X[y == cl, 0], y=X[y == cl, 1],\n",
    "                    alpha=0.8, c=cmap(idx),\n",
    "                    marker=markers[idx], label=cl)\n",
    " \n",
    "# 使用前两个主要组件训练逻辑回归分类器\n",
    "from sklearn.linear_model import LogisticRegression\n",
    " \n",
    "lr = LogisticRegression()\n",
    "lr = lr.fit(X_train_pca, y_train)\n",
    "plot_decision_regions(X_train_pca, y_train, classifier=lr)\n",
    "plt.xlabel('PC 1')\n",
    "plt.ylabel('PC 2')\n",
    "plt.legend(loc='lower left')\n",
    "plt.tight_layout()\n",
    "# plt.savefig('./figures/pca3.png', dpi=300)\n",
    "plt.show()\n"
   ]
  },
  {
   "cell_type": "code",
   "execution_count": 71,
   "metadata": {},
   "outputs": [
    {
     "data": {
      "image/png": "[encoded data removed]",
      "text/plain": [
       "<matplotlib.figure.Figure at 0xf49c400>"
      ]
     },
     "metadata": {},
     "output_type": "display_data"
    }
   ],
   "source": [
    "# 绘制逻辑回归在转换后的测试数据上得到的决策区域\n",
    "plot_decision_regions(X_test_pca, y_test, classifier=lr)\n",
    "plt.xlabel('PC 1')\n",
    "plt.ylabel('PC 2')\n",
    "plt.legend(loc='lower left')\n",
    "plt.tight_layout()\n",
    "# plt.savefig('./figures/pca4.png', dpi=300)\n",
    "plt.show()"
   ]
  },
  {
   "cell_type": "code",
   "execution_count": 73,
   "metadata": {},
   "outputs": [
    {
     "data": {
      "text/plain": [
       "array([ 0.37329648,  0.18818926,  0.10896791,  0.07724389,  0.06478595,\n",
       "        0.04592014,  0.03986936,  0.02521914,  0.02258181,  0.01830924,\n",
       "        0.01635336,  0.01284271,  0.00642076])"
      ]
     },
     "execution_count": 73,
     "metadata": {},
     "output_type": "execute_result"
    }
   ],
   "source": [
    "#  获取相应的方差贡献率\n",
    "pca = PCA(n_components=None)\n",
    "X_train_pca = pca.fit_transform(X_train_std)\n",
    "pca.explained_variance_ratio_\n"
   ]
  },
  {
   "cell_type": "code",
   "execution_count": null,
   "metadata": {},
   "outputs": [],
   "source": []
  }
 ],
 "metadata": {
  "kernelspec": {
   "display_name": "Python 3",
   "language": "python",
   "name": "python3"
  },
  "language_info": {
   "codemirror_mode": {
    "name": "ipython",
    "version": 3
   },
   "file_extension": ".py",
   "mimetype": "text/x-python",
   "name": "python",
   "nbconvert_exporter": "python",
   "pygments_lexer": "ipython3",
   "version": "3.6.4"
  }
 },
 "nbformat": 4,
 "nbformat_minor": 2
}
