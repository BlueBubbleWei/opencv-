{
 "cells": [
  {
   "cell_type": "code",
   "execution_count": 1,
   "metadata": {},
   "outputs": [],
   "source": [
    "import cv2\n",
    "import numpy as np\n",
    "from scipy import ndimage"
   ]
  },
  {
   "cell_type": "code",
   "execution_count": 2,
   "metadata": {},
   "outputs": [],
   "source": [
    "# 高通滤波器heigh passfilter\n",
    "# 检测图像的某个区域,根据像素和周围像素的亮度差值来提升该像素亮度的滤波器\n",
    "\n",
    "kernel_3x3=np.array([[-1,-1,-1],\n",
    "                    [-1,8,-1],\n",
    "                    [-1,-1,-1]])\n",
    "kernel_5x5=np.array([[-1,-1,-1,-1,-1],\n",
    "                    [-1,1,2,1,-1],\n",
    "                    [-1,2,4,2,-1],\n",
    "                    [-1,1,2,1,-1],\n",
    "                    [-1,-1,-1,-1,-1]])\n",
    "img=cv2.imread('target.png',0)\n",
    "k3=ndimage.convolve(img,kernel_3x3)\n",
    "k5=ndimage.convolve(img,kernel_5x5)\n",
    "\n",
    "blurred=cv2.GaussianBlur(img,(11,11),0)\n",
    "g_hpf=img=blurred\n",
    "\n",
    "cv2.imshow('3x3',k3)\n",
    "cv2.imshow('5x5',k5)\n",
    "cv2.imshow('g_hpf',g_hpf)\n",
    "cv2.waitKey()\n",
    "cv2.destroyAllWindows()"
   ]
  },
  {
   "cell_type": "code",
   "execution_count": 20,
   "metadata": {},
   "outputs": [],
   "source": [
    "def strokeEdges(src,dst,blurKsize=9,edgeKsize=5):\n",
    "    if blurKsize>3:\n",
    "        blurredSrc=cv2.medianBlur(src,blurKsize)\n",
    "        graySrc=cv2.cvtColor(blurredSrc,cv2.COLOR_BGR2GRAY)\n",
    "    else:\n",
    "        graySrc=cv2.cvtColor(src,cv2.COLOR_BGR2GRAY)\n",
    "        \n",
    "    cv2.Laplacian(graySrc,cv2.CV_8U,graySrc,ksize=edgeKsize)\n",
    "    normalizedInverseAlpha=(1.0/255)*(255-graySrc)\n",
    "    channels=cv2.split(src)\n",
    "    for channel in channels:\n",
    "        cv2.imshow('channel'+str(id(channel)+channel),channel)\n",
    "        channel[:]=channel * normalizedInverseAlpha\n",
    "        cv2.imshow('channel'+str(id(channel)),channel)\n",
    "    end=cv2.merge(channels,dst)\n",
    "    cv2.imshow('end',end)\n",
    "#     cv2.imshow('blurredSrc',blurredSrc)\n",
    "#     cv2.imshow('graySrc',graySrc)\n",
    "   \n",
    "    cv2.waitKey()\n",
    "    cv2.destroyAllWindows()\n",
    "img=cv2.imread('target.jpg')\n",
    "dst=cv2.imread('target.png')  \n",
    "strokeEdges(img,dst)"
   ]
  },
  {
   "cell_type": "code",
   "execution_count": 17,
   "metadata": {},
   "outputs": [],
   "source": [
    "kernel=np.array([[-1,-1,-1],[-1,9,-1],[-1,-1,-1]])\n",
    "end = cv2.filter2D(img,-1,kernel,dst)\n",
    "cv2.imshow('end',end)\n",
    "cv2.waitKey()\n",
    "cv2.destroyAllWindows()"
   ]
  },
  {
   "cell_type": "code",
   "execution_count": 23,
   "metadata": {},
   "outputs": [],
   "source": [
    "import cv2\n",
    "import numpy as np\n",
    "img=cv2.imread('target.png',0)\n",
    "canny=cv2.Canny(img,10,50)\n",
    "cv2.imshow('canny',canny)\n",
    "cv2.waitKey(0)\n",
    "cv2.destroyAllWindows()"
   ]
  },
  {
   "cell_type": "code",
   "execution_count": null,
   "metadata": {},
   "outputs": [],
   "source": []
  }
 ],
 "metadata": {
  "kernelspec": {
   "display_name": "Python 3",
   "language": "python",
   "name": "python3"
  },
  "language_info": {
   "codemirror_mode": {
    "name": "ipython",
    "version": 3
   },
   "file_extension": ".py",
   "mimetype": "text/x-python",
   "name": "python",
   "nbconvert_exporter": "python",
   "pygments_lexer": "ipython3",
   "version": "3.6.4"
  }
 },
 "nbformat": 4,
 "nbformat_minor": 2
}
