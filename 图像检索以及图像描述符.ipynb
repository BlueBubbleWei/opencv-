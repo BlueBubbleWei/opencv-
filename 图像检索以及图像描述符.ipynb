{
 "cells": [
  {
   "cell_type": "markdown",
   "metadata": {},
   "source": [
    "1 特征检测算法\n",
    "\n",
    "常见的特征和提取算法:\n",
    "\n",
    "Harris 检测角点\n",
    "\n",
    "Sift 检测斑点(blob) 有专利保护\n",
    "\n",
    "Surf 检测斑点   有专利保护\n",
    "\n",
    "Fast 检测角点\n",
    "\n",
    "Brief 检测斑点\n",
    "\n",
    "Orb  带方向的fast算法和具有旋转不变性的brief算法"
   ]
  },
  {
   "cell_type": "markdown",
   "metadata": {},
   "source": [
    "角点\n",
    "\n",
    "特征检测与匹配是Computer Vision 应用总重要的一部分，这需要寻找图像之间的特征建立对应关系。点，也就是图像中的特殊位置，是很常用的一类特征，点的局部特征也可以叫做“关键特征点”(keypoint feature)，或“兴趣点”(interest point)，或“角点”(conrner)。\n",
    "\n",
    "关于角点的具体描述可以有几种：\n",
    "\n",
    "一阶导数(即灰度的梯度)的局部最大所对应的像素点；\n",
    "两条及两条以上边缘的交点；\n",
    "图像中梯度值和梯度方向的变化速率都很高的点；\n",
    "角点处的一阶导数最大，二阶导数为零，指示物体边缘变化不连续的方向。"
   ]
  },
  {
   "cell_type": "code",
   "execution_count": 7,
   "metadata": {},
   "outputs": [],
   "source": [
    "# 检测角点特征\n",
    "import cv2\n",
    "import numpy as np\n",
    "img=cv2.imread('chess.png')\n",
    "gray=cv2.cvtColor(img,cv2.COLOR_BGR2GRAY)\n",
    "gray=np.float32(gray)\n",
    "dst=cv2.cornerHarris(gray,2,23,0.04)\n",
    "img[dst > 0.01 * dst.max()]=[0,0,255]\n",
    "while(True):\n",
    "    cv2.imshow('corner',img)\n",
    "    if cv2.waitKey(int(1000/12)) & 0xff == ord('q'):\n",
    "        break\n",
    "cv2.destroyAllWindows()\n",
    "\n"
   ]
  },
  {
   "cell_type": "code",
   "execution_count": null,
   "metadata": {},
   "outputs": [],
   "source": []
  }
 ],
 "metadata": {
  "kernelspec": {
   "display_name": "Python 3",
   "language": "python",
   "name": "python3"
  },
  "language_info": {
   "codemirror_mode": {
    "name": "ipython",
    "version": 3
   },
   "file_extension": ".py",
   "mimetype": "text/x-python",
   "name": "python",
   "nbconvert_exporter": "python",
   "pygments_lexer": "ipython3",
   "version": "3.6.4"
  }
 },
 "nbformat": 4,
 "nbformat_minor": 2
}
