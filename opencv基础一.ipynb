{
 "cells": [
  {
   "cell_type": "code",
   "execution_count": 8,
   "metadata": {},
   "outputs": [
    {
     "name": "stdout",
     "output_type": "stream",
     "text": [
      "[[0 0 0]\n",
      " [0 0 0]\n",
      " [0 0 0]]\n",
      "将灰度图转BGR后的图片：\n",
      " [[[0 0 0]\n",
      "  [0 0 0]\n",
      "  [0 0 0]]\n",
      "\n",
      " [[0 0 0]\n",
      "  [0 0 0]\n",
      "  [0 0 0]]\n",
      "\n",
      " [[0 0 0]\n",
      "  [0 0 0]\n",
      "  [0 0 0]]]\n",
      "图片的大小和通道数 (3, 3, 3)\n"
     ]
    }
   ],
   "source": [
    "import numpy as np\n",
    "import cv2\n",
    "# 用Numpy生成unit8格式的数组作为图片\n",
    "img=np.zeros((3,3,),dtype=np.uint8)\n",
    "print(img)\n",
    "\n",
    "img=cv2.cvtColor(img,cv2.COLOR_GRAY2BGR)\n",
    "print('将灰度图转BGR后的图片：\\n',img)\n",
    "##由此可看，每个像素由一个三原数组表示，并且每个整数向量分别表示一个B、G、R通道\n",
    "\n",
    "print('图片的大小和通道数',img.shape)"
   ]
  },
  {
   "cell_type": "code",
   "execution_count": 9,
   "metadata": {},
   "outputs": [
    {
     "data": {
      "text/plain": [
       "True"
      ]
     },
     "execution_count": 9,
     "metadata": {},
     "output_type": "execute_result"
    }
   ],
   "source": [
    "#保存改变图片的格式\n",
    "img=cv2.imread('target.png')\n",
    "cv2.imwrite('target.jpg',img)"
   ]
  },
  {
   "cell_type": "markdown",
   "metadata": {},
   "source": [
    "# imread()函数的参数 \n",
    "IMREAD_ANYCOLOR/ CV_LOAD_IMAGE_ANYCOLOR=4，其中添加了alpha,任何彩色，单独使用的时候等价于 IMREAD_UNCHANGED / CV_LOAD_IMAGE_UNCHANGED 。<br>\n",
    "IMREAD_ANYDEPTH / CV_LOAD_IMAGE_ANYDEPTH=2 ：任何位深度，如果载入的图像不是16-bit位图或者32-bit位图，则转化为8-bit位图。<br>\n",
    "IMREAD_COLOR / CV_LOAD_IMAGE_COLOR=1 ：图像转为彩色图（BGR，3通道）<br>\n",
    "IMREAD_GRAYSCALE / CV_LOAD_IMAGE_GRAYSCALE=0 ：图像转为灰度图（GRAY，1通道）<br>\n",
    "IMREAD_LOAD_GDAL=8<br>\n",
    "IMREAD_UNCHANGED=-1<br>\n",
    "##  无论采用哪种模式，imread()函数斗湖删除所有alpha通道的信息"
   ]
  },
  {
   "cell_type": "code",
   "execution_count": 13,
   "metadata": {},
   "outputs": [],
   "source": [
    "# 方法一：转灰度图\n",
    "grayImg=cv2.imread('target.jpg',cv2.IMREAD_GRAYSCALE)\n",
    "#方法二：转灰度图\n",
    "grayImg2=cv2.imread('target.jpg',0)\n",
    "cv2.imshow('grayImg',grayImg)\n",
    "cv2.imshow('grayImg2',grayImg2)\n",
    "cv2.waitKey(0)\n",
    "cv2.destroyAllWindows()"
   ]
  },
  {
   "cell_type": "markdown",
   "metadata": {},
   "source": [
    "# 图像与原始字节之间的转换\n",
    "一个像素通常由每个通道的一个字节表示<br>\n",
    "8位的灰度图是二维数组，24位的BGR图片时三维数组\n",
    "img[0,0,0],第一个代表y,第二个代表x,第三个代表通道"
   ]
  },
  {
   "cell_type": "code",
   "execution_count": 18,
   "metadata": {},
   "outputs": [],
   "source": [
    "# 随机字节的bytearray转换为灰度图像和BGR图像\n",
    "import cv2\n",
    "import numpy as np\n",
    "import os\n",
    "\n",
    "# 生成一个120000随机字节的数组\n",
    "randomByteArray = bytearray(os.urandom(120000))\n",
    "# print(randomByteArray)\n",
    "flatNumpyArray=np.array(randomByteArray)\n",
    "# print(flatNumpyArray)\n",
    "\n",
    "# 将数组转成一个400X300的灰度图片\n",
    "grayImage=flatNumpyArray.reshape(300,400)\n",
    "\n",
    "# 将数组转成400X100的彩色图片\n",
    "bgrImg=flatNumpyArray.reshape(100,400,3)\n",
    "\n",
    "cv2.imshow('grayImage',grayImage)\n",
    "cv2.imshow('bgrImg',bgrImg)\n",
    "cv2.waitKey(0)\n",
    "cv2.destroyAllWindows()"
   ]
  },
  {
   "cell_type": "code",
   "execution_count": 27,
   "metadata": {},
   "outputs": [
    {
     "name": "stdout",
     "output_type": "stream",
     "text": [
      "[255 255 255]\n",
      "255\n",
      "0\n"
     ]
    }
   ],
   "source": [
    "img=cv2.imread('target.jpg')\n",
    "# 一个像素由一个包含三个元素的数组构成\n",
    "print(img[0][0])\n",
    "\n",
    "# 使用numpy.array访问图像数据\n",
    "print(img.item(56,45,0))\n",
    "img.itemset((56,45,0),0)\n",
    "print(img.item(56,45,0))\n",
    "\n",
    "cv2.imshow('img',img)\n",
    "\n",
    "img[:,:,1]=0\n",
    "cv2.imshow('改变后的图片',img)\n",
    "\n",
    "img_roi=img[0:50,0:50]\n",
    "cv2.imshow('img_roi',img_roi)\n",
    "cv2.waitKey(0)\n",
    "cv2.destroyAllWindows()"
   ]
  },
  {
   "cell_type": "code",
   "execution_count": 28,
   "metadata": {},
   "outputs": [
    {
     "name": "stdout",
     "output_type": "stream",
     "text": [
      "查看图片的宽，高和通道数： (77, 89, 3)\n",
      "查看图像像素的大小： 20559\n",
      "查看图像的数据类型： uint8\n"
     ]
    }
   ],
   "source": [
    "print('查看图片的宽，高和通道数：',img.shape)\n",
    "print('查看图像像素的大小：',img.size)\n",
    "print('查看图像的数据类型：',img.dtype)"
   ]
  },
  {
   "cell_type": "markdown",
   "metadata": {},
   "source": [
    "# 视频文件的读写\n",
    "\n",
    "videoWriter = cv2.VideoWriter('out.mp4', cv2.cv.CV_FOURCC('M', 'J', 'P', 'G'), fps, size)<br>\n",
    "\n",
    "或\n",
    "\n",
    "videoWriter = cv2.VideoWriter('out.avi', cv2.cv.CV_FOURCC('I','4','2','0'), fps, size)<br>\n",
    "\n",
    "实际运行时生成的视频大小为0k，究其原因是运行环境没有相对应的视频编码器，故无法生成的视频，或者说第二个参数设置的不合适，系统里没有合适的。<br>\n",
    "\n",
    "解决办法<br>\n",
    "\n",
    "cv2.VideoWriter()第二个参数设置为-1，程序运行时则会交互地弹出一个对话框让你从系统已有的编码中选择一个。<br>\n",
    "cv2.VideoWriter_fourcc('I','4','2','0')[YUY颜色编码]和cv2.VideoWriter_fourcc('P','I','M','1')[MPEG-1编码]是.avi格式<br>\n",
    "cv2.VideoWriter_fourcc('X','V','I','D')[MPEG-4编码]是.avi格式<br>\n",
    "cv2.VideoWriter_fourcc('T','H','E','O')[Ogg Vorbis]是.ogv格式<br>\n",
    "cv2.VideoWriter_fourcc('F','L','V','1')[Flash]是.flv\n"
   ]
  },
  {
   "cell_type": "code",
   "execution_count": 31,
   "metadata": {},
   "outputs": [],
   "source": [
    "import cv2\n",
    "\n",
    "videoCapture=cv2.VideoCapture('Lara_UrbSeq1_CAOR_v3_7_HR.avi')\n",
    "fps=videoCapture.get(cv2.CAP_PROP_FPS)\n",
    "size=(int(videoCapture.get(cv2.CAP_PROP_FRAME_WIDTH)),int(videoCapture.get(cv2.CAP_PROP_FRAME_HEIGHT)))\n",
    "videoWriter=cv2.VideoWriter('MYout.avi',cv2.VideoWriter_fourcc('I','4','2','0'),fps,size)\n",
    "# videoWriter=cv2.VideoWriter('MYout.avi',-1,fps,size)\n",
    "success,frame=videoCapture.read()\n",
    "while success:\n",
    "    videoWriter.write(frame)\n",
    "    success,frame=videoCapture.read()\n"
   ]
  },
  {
   "cell_type": "markdown",
   "metadata": {},
   "source": [
    "# 捕获摄像头的帧\n"
   ]
  },
  {
   "cell_type": "code",
   "execution_count": 5,
   "metadata": {},
   "outputs": [
    {
     "name": "stdout",
     "output_type": "stream",
     "text": [
      "False\n"
     ]
    }
   ],
   "source": [
    "import cv2\n",
    "cameraCapture=cv2.VideoCapture(0)\n",
    "# 设置帧率\n",
    "fps=30\n",
    "size=(int(cameraCapture.get(cv2.CAP_PROP_FRAME_HEIGHT)),int(cameraCapture.get(cv2.CAP_PROP_FRAME_HEIGHT)))\n",
    "videowriter=cv2.VideoWriter('output.avi',cv2.VideoWriter_fourcc('I','4','2','0'),fps,size)\n",
    "success,frame=cameraCapture.read()\n",
    "print(success)\n",
    "numFrameRemaining=10*fps-1\n",
    "while success and numFrameRemaining >0:\n",
    "    videowriter.write(frame)\n",
    "    success,frame - cameraCapture.read()\n",
    "    numFrameRemaining-=-1\n",
    "cameraCapture.release()"
   ]
  },
  {
   "cell_type": "markdown",
   "metadata": {},
   "source": [
    "# 在窗口显示摄像头帧"
   ]
  },
  {
   "cell_type": "code",
   "execution_count": 1,
   "metadata": {},
   "outputs": [
    {
     "name": "stdout",
     "output_type": "stream",
     "text": [
      "显示窗口，单击窗口或者任意键退出\n"
     ]
    },
    {
     "ename": "SystemError",
     "evalue": "<built-in function destroyAllWindows> returned NULL without setting an error",
     "output_type": "error",
     "traceback": [
      "\u001b[1;31m---------------------------------------------------------------------------\u001b[0m",
      "\u001b[1;31mSystemError\u001b[0m                               Traceback (most recent call last)",
      "\u001b[1;32m<ipython-input-1-ca322484308d>\u001b[0m in \u001b[0;36m<module>\u001b[1;34m()\u001b[0m\n\u001b[0;32m     16\u001b[0m     \u001b[0msuccess\u001b[0m\u001b[1;33m,\u001b[0m\u001b[0mframe\u001b[0m\u001b[1;33m=\u001b[0m\u001b[0mcameraCapture\u001b[0m\u001b[1;33m.\u001b[0m\u001b[0mread\u001b[0m\u001b[1;33m(\u001b[0m\u001b[1;33m)\u001b[0m\u001b[1;33m\u001b[0m\u001b[0m\n\u001b[0;32m     17\u001b[0m \u001b[1;33m\u001b[0m\u001b[0m\n\u001b[1;32m---> 18\u001b[1;33m \u001b[0mcv2\u001b[0m\u001b[1;33m.\u001b[0m\u001b[0mdestroyAllWindows\u001b[0m\u001b[1;33m(\u001b[0m\u001b[1;34m'MyWindow'\u001b[0m\u001b[1;33m)\u001b[0m\u001b[1;33m\u001b[0m\u001b[0m\n\u001b[0m\u001b[0;32m     19\u001b[0m \u001b[0mcameraCapture\u001b[0m\u001b[1;33m.\u001b[0m\u001b[0mrelease\u001b[0m\u001b[1;33m(\u001b[0m\u001b[1;33m)\u001b[0m\u001b[1;33m\u001b[0m\u001b[0m\n",
      "\u001b[1;31mSystemError\u001b[0m: <built-in function destroyAllWindows> returned NULL without setting an error"
     ]
    }
   ],
   "source": [
    "import cv2\n",
    "clicked=False\n",
    "\n",
    "def onMouse(event,x,y,flags,param):\n",
    "    global clicked\n",
    "    if event == cv2.EVENT_LBUTTONUP:\n",
    "        clicked=True\n",
    "\n",
    "cameraCapture=cv2.VideoCapture(0)\n",
    "cv2.namedWindow('MyWindow')\n",
    "cv2.setMouseCallback('MyWindow',onMouse)\n",
    "print('显示窗口，单击窗口或者任意键退出')\n",
    "success,frame=cameraCapture.read()\n",
    "while success and cv2.waitKey(1) == -1 and not clicked:\n",
    "    cv2.imshow('MyWindow',frame)\n",
    "    success,frame=cameraCapture.read()\n",
    "    \n",
    "cv2.destroyAllWindows('MyWindow')\n",
    "cameraCapture.release()"
   ]
  },
  {
   "cell_type": "code",
   "execution_count": 4,
   "metadata": {},
   "outputs": [
    {
     "name": "stdout",
     "output_type": "stream",
     "text": [
      "B\n"
     ]
    }
   ],
   "source": [
    "if False and None is not None:\n",
    "    print('A')\n",
    "else:\n",
    "    print('B')\n",
    "    "
   ]
  },
  {
   "cell_type": "code",
   "execution_count": 10,
   "metadata": {},
   "outputs": [
    {
     "ename": "AssertionError",
     "evalue": "",
     "output_type": "error",
     "traceback": [
      "\u001b[1;31m---------------------------------------------------------------------------\u001b[0m",
      "\u001b[1;31mAssertionError\u001b[0m                            Traceback (most recent call last)",
      "\u001b[1;32m<ipython-input-10-b8d738a162b5>\u001b[0m in \u001b[0;36m<module>\u001b[1;34m()\u001b[0m\n\u001b[1;32m----> 1\u001b[1;33m \u001b[1;32massert\u001b[0m \u001b[1;32mnot\u001b[0m \u001b[1;32mTrue\u001b[0m\u001b[1;33m\u001b[0m\u001b[0m\n\u001b[0m",
      "\u001b[1;31mAssertionError\u001b[0m: "
     ]
    }
   ],
   "source": [
    "assert not True"
   ]
  },
  {
   "cell_type": "code",
   "execution_count": 9,
   "metadata": {},
   "outputs": [
    {
     "ename": "AssertionError",
     "evalue": "",
     "output_type": "error",
     "traceback": [
      "\u001b[1;31m---------------------------------------------------------------------------\u001b[0m",
      "\u001b[1;31mAssertionError\u001b[0m                            Traceback (most recent call last)",
      "\u001b[1;32m<ipython-input-9-f768e52e362a>\u001b[0m in \u001b[0;36m<module>\u001b[1;34m()\u001b[0m\n\u001b[0;32m      1\u001b[0m \u001b[0mA\u001b[0m\u001b[1;33m=\u001b[0m\u001b[1;32mTrue\u001b[0m\u001b[1;33m\u001b[0m\u001b[0m\n\u001b[1;32m----> 2\u001b[1;33m \u001b[1;32massert\u001b[0m \u001b[0mA\u001b[0m \u001b[1;33m==\u001b[0m \u001b[1;32mFalse\u001b[0m\u001b[1;33m\u001b[0m\u001b[0m\n\u001b[0m",
      "\u001b[1;31mAssertionError\u001b[0m: "
     ]
    }
   ],
   "source": [
    "A=True\n",
    "assert A == False"
   ]
  },
  {
   "cell_type": "code",
   "execution_count": 11,
   "metadata": {},
   "outputs": [
    {
     "name": "stdout",
     "output_type": "stream",
     "text": [
      "None\n"
     ]
    }
   ],
   "source": [
    "def testReturn():\n",
    "    return\n",
    "a=testReturn()\n",
    "print(a)"
   ]
  },
  {
   "cell_type": "code",
   "execution_count": 21,
   "metadata": {},
   "outputs": [
    {
     "name": "stdout",
     "output_type": "stream",
     "text": [
      "3\n",
      "5\n"
     ]
    },
    {
     "data": {
      "text/plain": [
       "<bound method A.returnSelf of <__main__.A object at 0x0000000005C72710>>"
      ]
     },
     "execution_count": 21,
     "metadata": {},
     "output_type": "execute_result"
    }
   ],
   "source": [
    "class A(object):\n",
    "    def __init__(self):\n",
    "        self.a=3\n",
    "        self.__a=5\n",
    "    def printAns(self):\n",
    "        print(self.a)\n",
    "        print(self.__a)\n",
    "    \n",
    "    def returnSelf(self):\n",
    "        return self._returnSelf\n",
    "a=A()\n",
    "a.printAns()\n",
    "a.returnSelf\n",
    "# a.a\n",
    "# a.__a"
   ]
  },
  {
   "cell_type": "code",
   "execution_count": null,
   "metadata": {},
   "outputs": [],
   "source": [
    "_enteredFrame\n",
    "_enteredFrame"
   ]
  }
 ],
 "metadata": {
  "kernelspec": {
   "display_name": "Python 3",
   "language": "python",
   "name": "python3"
  },
  "language_info": {
   "codemirror_mode": {
    "name": "ipython",
    "version": 3
   },
   "file_extension": ".py",
   "mimetype": "text/x-python",
   "name": "python",
   "nbconvert_exporter": "python",
   "pygments_lexer": "ipython3",
   "version": "3.6.4"
  }
 },
 "nbformat": 4,
 "nbformat_minor": 2
}
